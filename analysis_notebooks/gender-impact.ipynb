{
 "cells": [
  {
   "cell_type": "code",
   "execution_count": 1,
   "id": "5cf915b1",
   "metadata": {},
   "outputs": [],
   "source": [
    "import os\n",
    "import json\n",
    "import csv\n",
    "import pandas as pd\n",
    "import random, string, re, collections\n",
    "import numpy as np\n",
    "from scipy.stats import spearmanr, pearsonr\n",
    "import matplotlib.pyplot as plt\n",
    "import matplotlib\n",
    "import matplotlib.cm as cm \n",
    "import seaborn as sns\n",
    "import statsmodels.api as sm\n",
    "import statsmodels.formula.api as smf\n",
    "import torch\n",
    "from sentence_transformers import SentenceTransformer\n",
    "from sklearn.metrics.pairwise import cosine_similarity"
   ]
  },
  {
   "cell_type": "markdown",
   "id": "1f29d452",
   "metadata": {},
   "source": [
    "# 1. Load data"
   ]
  },
  {
   "cell_type": "markdown",
   "id": "4a31f70d",
   "metadata": {},
   "source": [
    "## 1.1 Assign gender attributes to roles"
   ]
  },
  {
   "cell_type": "code",
   "execution_count": 19,
   "id": "2b11831d",
   "metadata": {},
   "outputs": [],
   "source": [
    "male_roles = [\n",
    "    'brother', 'father', 'daddy', 'dad', 'papa', 'father-in-law', 'grandfather', \n",
    "    'husband', 'son', 'boyfriend', 'fiancé'\n",
    "]\n",
    "\n",
    "female_roles = [\n",
    "    'sister', 'mother', 'mummy', 'mamma', 'mommy', 'mom', 'mum', 'mama', \n",
    "    'daughter', 'mother-in-law', 'grandmother', 'wife', 'girlfriend', 'fiancée', \n",
    "    'housewife'\n",
    "]\n",
    "\n",
    "neutral_roles = [\n",
    "    'professor', 'supervisor', 'instructor', 'student', 'coach', 'tutor', 'dean', \n",
    "    'graduate', 'partner', 'classmate', 'companion', 'buddy', 'roommate', 'coworker', \n",
    "    'boss', 'colleague', 'mentor', 'friend', 'stranger', 'foreigner', 'best friend', 'close friend', \n",
    "    'parents', 'cousin'\n",
    "]\n",
    "\n",
    "def categorize_role(role):\n",
    "    if role in male_roles:\n",
    "        return 'male'\n",
    "    elif role in female_roles:\n",
    "        return 'female'\n",
    "    elif role in neutral_roles:\n",
    "        return 'neutral'\n",
    "    else:\n",
    "        return 'unknown'\n",
    "\n",
    "role_df['gender'] = role_df['role'].apply(categorize_role)\n",
    "\n",
    "gender_aligned_words = {'mother': ['mother', 'mummy', 'mamma', 'mommy', 'mom', 'mum', 'mama','mother-in-law'],\n",
    "                        'father': ['daddy', 'dad', 'papa', 'father-in-law'],\n",
    "                        'boyfriend': ['husband', 'fiancé','boyfriend'],\n",
    "                        'girlfriend':['wife', 'girlfriend', 'fiancée'],\n",
    "                        'partner': ['partner'],\n",
    "                        'parents':['parents'],\n",
    "                        'sister':['sister'],\n",
    "                        'brother':['brother']\n",
    "                       }\n",
    "\n",
    "gender_role_cate = {'mother': 'parent',\n",
    "                    'father': 'parent',\n",
    "                    'parents': 'parent',\n",
    "                    'partner': 'partner',\n",
    "                    'boyfriend': 'partner',\n",
    "                    'girlfriend':'partner',\n",
    "                    'sister':'sibling',\n",
    "                    'brother':'sibling',    \n",
    "}\n",
    "\n",
    "def find_align_word(dataset_val):\n",
    "    for domain, datasets in gender_aligned_words.items():\n",
    "        if dataset_val in datasets:\n",
    "            return domain\n",
    "    return None\n",
    "\n",
    "role_df['align_words'] = role_df['role'].apply(find_align_word)\n",
    "role_df['gender_role_cate'] = role_df['align_words'].map(gender_role_cate)"
   ]
  },
  {
   "cell_type": "code",
   "execution_count": 20,
   "id": "f8b1f386",
   "metadata": {},
   "outputs": [
    {
     "data": {
      "text/plain": [
       "'SAVE GENDER ATTRIBUTES'"
      ]
     },
     "execution_count": 20,
     "metadata": {},
     "output_type": "execute_result"
    }
   ],
   "source": [
    "'''SAVE GENDER ATTRIBUTES'''\n",
    "# role_gender_path = \"../data/final-final-role-cate.csv\"\n",
    "# role_df.to_csv(role_gender_path, index=False)"
   ]
  },
  {
   "cell_type": "code",
   "execution_count": null,
   "id": "60fea16f",
   "metadata": {},
   "outputs": [],
   "source": []
  },
  {
   "cell_type": "code",
   "execution_count": null,
   "id": "ac7daae0",
   "metadata": {},
   "outputs": [],
   "source": []
  },
  {
   "cell_type": "markdown",
   "id": "8d4ff82f",
   "metadata": {},
   "source": [
    "## 1.1 Load role and answers"
   ]
  },
  {
   "cell_type": "code",
   "execution_count": 21,
   "id": "7e369ff3",
   "metadata": {},
   "outputs": [],
   "source": [
    "role_df_path = \"../data/final-final-role-cate.csv\"\n",
    "role_df = pd.read_csv(role_df_path)"
   ]
  },
  {
   "cell_type": "code",
   "execution_count": 3,
   "id": "285c4d98",
   "metadata": {},
   "outputs": [
    {
     "data": {
      "text/plain": [
       "array(['family', 'other occupations', 'psychology', 'school', 'work',\n",
       "       'politics', 'natural science', 'medicine', 'math', 'law',\n",
       "       'history', 'eecs', 'econ', 'romantic', 'social', 'AI'],\n",
       "      dtype=object)"
      ]
     },
     "execution_count": 3,
     "metadata": {},
     "output_type": "execute_result"
    }
   ],
   "source": [
    "role_df['merged_cate'].unique()"
   ]
  },
  {
   "cell_type": "code",
   "execution_count": 17,
   "id": "efadaf34",
   "metadata": {},
   "outputs": [
    {
     "data": {
      "text/plain": [
       "Index(['role', 'role cate', 'occupation cate', 'merged_cate',\n",
       "       'N-gram Frequency (2018-2019)', 'mmlu', 'interpersonal', 'gender',\n",
       "       'align_words', 'gender_role_cate'],\n",
       "      dtype='object')"
      ]
     },
     "execution_count": 17,
     "metadata": {},
     "output_type": "execute_result"
    }
   ],
   "source": [
    "role_df.columns"
   ]
  },
  {
   "cell_type": "code",
   "execution_count": 13,
   "id": "ea72c2ef",
   "metadata": {},
   "outputs": [],
   "source": [
    "# Use OPT experiment data as an example in this notebook\n",
    "\n",
    "experiment_result_path = \"../data/mmlu_role_ans/opt_1.3b_result_full.csv\"\n",
    "ans_df = pd.read_csv(experiment_result_path)[['role', 'dataset', 'accuracy', 'role cate', 'occupation cate', 'merged_cate']]"
   ]
  },
  {
   "cell_type": "code",
   "execution_count": 24,
   "id": "9256d4c4",
   "metadata": {},
   "outputs": [],
   "source": [
    "ans_role_df = pd.merge(ans_df, role_df[['role', 'mmlu','interpersonal', \n",
    "                                        'gender', 'align_words', 'gender_role_cate']], \n",
    "                       how='left')"
   ]
  },
  {
   "cell_type": "code",
   "execution_count": 40,
   "id": "f75f389a",
   "metadata": {},
   "outputs": [
    {
     "data": {
      "text/plain": [
       "(710599, 11)"
      ]
     },
     "execution_count": 40,
     "metadata": {},
     "output_type": "execute_result"
    }
   ],
   "source": [
    "gender_df = ans_role_df[ans_role_df['gender'].isin(['neutral', 'male', 'female'])]\n",
    "gender_df.shape"
   ]
  },
  {
   "cell_type": "code",
   "execution_count": 33,
   "id": "96396e10",
   "metadata": {},
   "outputs": [
    {
     "data": {
      "text/plain": [
       "Index(['role', 'dataset', 'accuracy', 'role cate', 'occupation cate',\n",
       "       'merged_cate', 'mmlu', 'interpersonal', 'gender', 'align_words',\n",
       "       'gender_role_cate'],\n",
       "      dtype='object')"
      ]
     },
     "execution_count": 33,
     "metadata": {},
     "output_type": "execute_result"
    }
   ],
   "source": [
    "gender_df.columns"
   ]
  },
  {
   "cell_type": "code",
   "execution_count": null,
   "id": "7a6545b7",
   "metadata": {},
   "outputs": [],
   "source": []
  },
  {
   "cell_type": "markdown",
   "id": "a6bb97bf",
   "metadata": {},
   "source": [
    "# 2. Plot gender difference"
   ]
  },
  {
   "cell_type": "code",
   "execution_count": 57,
   "id": "0a94c18d",
   "metadata": {},
   "outputs": [],
   "source": [
    "def ensure_directory(file_name):\n",
    "    \"\"\"Ensure that the directory for the given file name exists. Create it if it does not.\"\"\"\n",
    "    dir_name = os.path.dirname(file_name)\n",
    "    if not os.path.exists(dir_name) and dir_name:\n",
    "        os.makedirs(dir_name)"
   ]
  },
  {
   "cell_type": "markdown",
   "id": "2393faf9",
   "metadata": {},
   "source": [
    "## Figure 12 "
   ]
  },
  {
   "cell_type": "code",
   "execution_count": 58,
   "id": "2c60ffde",
   "metadata": {},
   "outputs": [],
   "source": [
    "def plot_gender_diff(data, file_name, xlim_lower, xlim_upper):\n",
    "        \n",
    "    ensure_directory(file_name)\n",
    "    \n",
    "    fig, axs = plt.subplots(nrows=1, ncols=2, figsize=(8.5, 4))  \n",
    "    \n",
    "    # left plot\n",
    "    hue_order = ['neutral', 'female', 'male']\n",
    "    sns.barplot(data=data, x='accuracy', y='gender_role_cate', hue='gender', hue_order=hue_order, ax=axs[0])\n",
    "    axs[0].set_xlabel('Accuracy')\n",
    "    axs[0].set_ylabel('Role Category')\n",
    "    axs[0].set_xlim(xlim_lower, xlim_upper)\n",
    "    axs[0].grid(False)\n",
    "    axs[0].legend(loc='lower right', fontsize='small')\n",
    "    \n",
    "    # right plot \n",
    "    sns.barplot(data=data, y='gender', x='accuracy', order=hue_order, ax=axs[1])\n",
    "    axs[1].set_ylabel('Gender')\n",
    "    axs[1].set_xlabel('Accuracy')\n",
    "    axs[1].set_xlim(xlim_lower, xlim_upper)\n",
    "    axs[1].grid(False)\n",
    "    \n",
    "    plt.tight_layout()\n",
    "    plt.savefig(file_name, bbox_inches='tight')\n",
    "    plt.show()"
   ]
  },
  {
   "cell_type": "code",
   "execution_count": 62,
   "id": "ccab0f42",
   "metadata": {},
   "outputs": [
    {
     "data": {
      "image/png": "[encoded data removed]",
      "text/plain": [
       "<Figure size 850x400 with 2 Axes>"
      ]
     },
     "metadata": {},
     "output_type": "display_data"
    }
   ],
   "source": [
    "plot_gender_diff(data=gender_df,\n",
    "                 file_name='../shared_data/figures/example/align_gender_12.pdf',\n",
    "                 xlim_lower=0.225,\n",
    "                 xlim_upper=0.275)"
   ]
  },
  {
   "cell_type": "code",
   "execution_count": null,
   "id": "6af18f99",
   "metadata": {},
   "outputs": [],
   "source": []
  },
  {
   "cell_type": "code",
   "execution_count": null,
   "id": "b5fd72c8",
   "metadata": {},
   "outputs": [],
   "source": []
  },
  {
   "cell_type": "markdown",
   "id": "5e29f991",
   "metadata": {},
   "source": [
    "## Figure 13"
   ]
  },
  {
   "cell_type": "code",
   "execution_count": 60,
   "id": "edc351a2",
   "metadata": {},
   "outputs": [],
   "source": [
    "domain_dic = {'law': ['professional_law', 'international_law'],\n",
    "             'medicine': ['clinical_knowledge', 'college_medicine', 'professional_medicine'],\n",
    "             'eecs': ['electrical_engineering', 'college_computer_science', 'high_school_computer_science'],\n",
    "             'math': ['high_school_statistics', 'college_mathematics', 'high_school_mathematics'],\n",
    "             'politics': ['us_foreign_policy', 'high_school_government_and_politics'],\n",
    "             'psychology': ['professional_psychology', 'high_school_psychology'],\n",
    "             'natural science': ['college_physics', 'college_biology', 'high_school_physics',\n",
    "                                'high_school_chemistry', 'college_chemistry', 'high_school_biology'],\n",
    "             'econ': ['management', 'professional_accounting', 'econometrics', 'high_school_macroeconomics', 'high_school_microeconomics']}\n",
    "\n",
    "def find_domain(dataset_val):\n",
    "    for domain, datasets in domain_dic.items():\n",
    "        if dataset_val in datasets:\n",
    "            return domain\n",
    "    return None"
   ]
  },
  {
   "cell_type": "code",
   "execution_count": 68,
   "id": "a484fd5d",
   "metadata": {},
   "outputs": [],
   "source": [
    "def plot_gernder_by_domain(data, file_name, ylim_lower, ylim_upper):\n",
    "    ensure_directory(file_name)\n",
    "    \n",
    "    data['domain'] = data['dataset'].apply(lambda x: find_domain(x))\n",
    "    gender_role_dataset_mean = data.groupby(['role', 'gender', 'domain'])['accuracy'].mean().reset_index()\n",
    "    order = gender_role_dataset_mean.groupby('domain')['accuracy'].mean().sort_values().reset_index()['domain']\n",
    "\n",
    "    # Create the bar plot\n",
    "    plt.figure(figsize=(7, 5))\n",
    "    sns.barplot(data=gender_role_dataset_mean, x='domain', y='accuracy', hue='gender', order=order)\n",
    "\n",
    "    # Setting labels and customizing axes\n",
    "    plt.xlabel('Domain')\n",
    "    plt.ylabel('Accuracy')\n",
    "    plt.xticks(rotation=20)\n",
    "    plt.ylim(ylim_lower, ylim_upper)\n",
    "    plt.grid(False)\n",
    "    plt.legend(loc='upper left')\n",
    "\n",
    "    # Save and show the plot\n",
    "    plt.savefig(file_name, bbox_inches='tight')\n",
    "    plt.show()"
   ]
  },
  {
   "cell_type": "code",
   "execution_count": 69,
   "id": "d156fb16",
   "metadata": {},
   "outputs": [
    {
     "name": "stderr",
     "output_type": "stream",
     "text": [
      "/tmp/ipykernel_690457/1856841721.py:4: SettingWithCopyWarning: \n",
      "A value is trying to be set on a copy of a slice from a DataFrame.\n",
      "Try using .loc[row_indexer,col_indexer] = value instead\n",
      "\n",
      "See the caveats in the documentation: https://pandas.pydata.org/pandas-docs/stable/user_guide/indexing.html#returning-a-view-versus-a-copy\n",
      "  data['domain'] = data['dataset'].apply(lambda x: find_domain(x))\n"
     ]
    },
    {
     "data": {
      "image/png": "[encoded data removed]",
      "text/plain": [
       "<Figure size 700x500 with 1 Axes>"
      ]
     },
     "metadata": {},
     "output_type": "display_data"
    }
   ],
   "source": [
    "plot_gernder_by_domain(data=gender_df,\n",
    "                       file_name='../shared_data/figures/example/gender_domain_13.pdf',\n",
    "                       ylim_lower=0.15,\n",
    "                       ylim_upper=0.35)"
   ]
  }
 ],
 "metadata": {
  "kernelspec": {
   "display_name": "Python 3 (ipykernel)",
   "language": "python",
   "name": "python3"
  },
  "language_info": {
   "codemirror_mode": {
    "name": "ipython",
    "version": 3
   },
   "file_extension": ".py",
   "mimetype": "text/x-python",
   "name": "python",
   "nbconvert_exporter": "python",
   "pygments_lexer": "ipython3",
   "version": "3.10.9"
  }
 },
 "nbformat": 4,
 "nbformat_minor": 5
}
