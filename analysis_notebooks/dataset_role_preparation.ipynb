{
 "cells": [
  {
   "cell_type": "code",
   "execution_count": 55,
   "id": "25b4939b",
   "metadata": {},
   "outputs": [],
   "source": [
    "import pandas as pd\n",
    "import json\n",
    "import torch\n",
    "from datasets import load_dataset\n",
    "import random\n",
    "\n",
    "import csv\n",
    "import requests\n",
    "import urllib\n",
    "from statistics import mean\n",
    "import ast\n",
    "import datetime\n",
    "\n",
    "import nltk\n",
    "from nltk.corpus import wordnet as wn\n"
   ]
  },
  {
   "cell_type": "markdown",
   "id": "dc26b45b",
   "metadata": {},
   "source": [
    "# Load and save MMLU dataset\n",
    "\n",
    "More details can be found at https://huggingface.co/datasets/cais/mmlu "
   ]
  },
  {
   "cell_type": "code",
   "execution_count": 24,
   "id": "11a5d763",
   "metadata": {},
   "outputs": [],
   "source": [
    "cache_dir='/shared/3/cache/huggingface'\n",
    "mmlu_subset_lst = ['abstract_algebra']\n",
    "dataset_path = \"../data/example_dataset.csv\""
   ]
  },
  {
   "cell_type": "code",
   "execution_count": 28,
   "id": "fddcacc9",
   "metadata": {},
   "outputs": [],
   "source": [
    "def process_mmlu_data(mmlu_subset_lst, cache_dir, dataset_path):\n",
    "    mmlu_datasets = []\n",
    "    for task in mmlu_subset_lst:\n",
    "        subset = load_dataset(\"cais/mmlu\", task, cache_dir=cache_dir)['test']\n",
    "        mmlu_datasets.extend(subset)\n",
    "\n",
    "    mmlu_datasets_df = pd.DataFrame(mmlu_datasets)\n",
    "    options = mmlu_datasets_df['choices'].apply(pd.Series)\n",
    "    options = options.rename(columns={0: 'option1', 1: 'option2', 2: 'option3', 3: 'option4'})\n",
    "\n",
    "    dataset_df = pd.concat([mmlu_datasets_df.drop('choices', axis=1), options], axis=1)\n",
    "    dataset_df['answer'] = dataset_df['answer'] + 1\n",
    "    dataset_df.rename(columns={'subject': 'dataset'}, inplace=True)\n",
    "\n",
    "    dataset_df.to_csv(dataset_path)\n",
    "\n",
    "    return dataset_df"
   ]
  },
  {
   "cell_type": "code",
   "execution_count": 29,
   "id": "69210e19",
   "metadata": {},
   "outputs": [
    {
     "name": "stderr",
     "output_type": "stream",
     "text": [
      "/opt/anaconda/lib/python3.10/site-packages/datasets/load.py:1429: FutureWarning: The repository for cais/mmlu contains custom code which must be executed to correctly load the dataset. You can inspect the repository content at https://hf.co/datasets/cais/mmlu\n",
      "You can avoid this message in future by passing the argument `trust_remote_code=True`.\n",
      "Passing `trust_remote_code=True` will be mandatory to load this dataset from the next major release of `datasets`.\n",
      "  warnings.warn(\n"
     ]
    }
   ],
   "source": [
    "dataset_df = process_mmlu_data(mmlu_subset_lst, cache_dir, dataset_path)"
   ]
  },
  {
   "cell_type": "code",
   "execution_count": 30,
   "id": "dbe13ea0",
   "metadata": {},
   "outputs": [
    {
     "data": {
      "text/html": [
       "<div>\n",
       "<style scoped>\n",
       "    .dataframe tbody tr th:only-of-type {\n",
       "        vertical-align: middle;\n",
       "    }\n",
       "\n",
       "    .dataframe tbody tr th {\n",
       "        vertical-align: top;\n",
       "    }\n",
       "\n",
       "    .dataframe thead th {\n",
       "        text-align: right;\n",
       "    }\n",
       "</style>\n",
       "<table border=\"1\" class=\"dataframe\">\n",
       "  <thead>\n",
       "    <tr style=\"text-align: right;\">\n",
       "      <th></th>\n",
       "      <th>question</th>\n",
       "      <th>dataset</th>\n",
       "      <th>answer</th>\n",
       "      <th>option1</th>\n",
       "      <th>option2</th>\n",
       "      <th>option3</th>\n",
       "      <th>option4</th>\n",
       "    </tr>\n",
       "  </thead>\n",
       "  <tbody>\n",
       "    <tr>\n",
       "      <th>0</th>\n",
       "      <td>Find the degree for the given field extension ...</td>\n",
       "      <td>abstract_algebra</td>\n",
       "      <td>2</td>\n",
       "      <td>0</td>\n",
       "      <td>4</td>\n",
       "      <td>2</td>\n",
       "      <td>6</td>\n",
       "    </tr>\n",
       "    <tr>\n",
       "      <th>1</th>\n",
       "      <td>Let p = (1, 2, 5, 4)(2, 3) in S_5 . Find the i...</td>\n",
       "      <td>abstract_algebra</td>\n",
       "      <td>3</td>\n",
       "      <td>8</td>\n",
       "      <td>2</td>\n",
       "      <td>24</td>\n",
       "      <td>120</td>\n",
       "    </tr>\n",
       "    <tr>\n",
       "      <th>2</th>\n",
       "      <td>Find all zeros in the indicated finite field o...</td>\n",
       "      <td>abstract_algebra</td>\n",
       "      <td>4</td>\n",
       "      <td>0</td>\n",
       "      <td>1</td>\n",
       "      <td>0,1</td>\n",
       "      <td>0,4</td>\n",
       "    </tr>\n",
       "    <tr>\n",
       "      <th>3</th>\n",
       "      <td>Statement 1 | A factor group of a non-Abelian ...</td>\n",
       "      <td>abstract_algebra</td>\n",
       "      <td>2</td>\n",
       "      <td>True, True</td>\n",
       "      <td>False, False</td>\n",
       "      <td>True, False</td>\n",
       "      <td>False, True</td>\n",
       "    </tr>\n",
       "    <tr>\n",
       "      <th>4</th>\n",
       "      <td>Find the product of the given polynomials in t...</td>\n",
       "      <td>abstract_algebra</td>\n",
       "      <td>2</td>\n",
       "      <td>2x^2 + 5</td>\n",
       "      <td>6x^2 + 4x + 6</td>\n",
       "      <td>0</td>\n",
       "      <td>x^2 + 1</td>\n",
       "    </tr>\n",
       "  </tbody>\n",
       "</table>\n",
       "</div>"
      ],
      "text/plain": [
       "                                            question           dataset  \\\n",
       "0  Find the degree for the given field extension ...  abstract_algebra   \n",
       "1  Let p = (1, 2, 5, 4)(2, 3) in S_5 . Find the i...  abstract_algebra   \n",
       "2  Find all zeros in the indicated finite field o...  abstract_algebra   \n",
       "3  Statement 1 | A factor group of a non-Abelian ...  abstract_algebra   \n",
       "4  Find the product of the given polynomials in t...  abstract_algebra   \n",
       "\n",
       "   answer     option1        option2      option3      option4  \n",
       "0       2           0              4            2            6  \n",
       "1       3           8              2           24          120  \n",
       "2       4           0              1          0,1          0,4  \n",
       "3       2  True, True   False, False  True, False  False, True  \n",
       "4       2    2x^2 + 5  6x^2 + 4x + 6            0      x^2 + 1  "
      ]
     },
     "execution_count": 30,
     "metadata": {},
     "output_type": "execute_result"
    }
   ],
   "source": [
    "dataset_df.head()"
   ]
  },
  {
   "cell_type": "code",
   "execution_count": null,
   "id": "0bc753a2",
   "metadata": {},
   "outputs": [],
   "source": []
  },
  {
   "cell_type": "markdown",
   "id": "a8fbacb6",
   "metadata": {},
   "source": [
    "# Prepare social roles\n",
    "\n",
    "A comprehensive list of occupations: https://www.pnas.org/syndication/doi/10.1073/pnas.1720347115#supplementary-materials (Appendix A.3)"
   ]
  },
  {
   "cell_type": "markdown",
   "id": "399bd4c6",
   "metadata": {},
   "source": [
    "## Construct the list of social roles of interest"
   ]
  },
  {
   "cell_type": "code",
   "execution_count": 31,
   "id": "ddd03a77",
   "metadata": {},
   "outputs": [],
   "source": [
    "occu_str = \"janitor, statistician, midwife, bailiff, auctioneer, photographer, geologist, shoemaker, athlete, cashier, dancer, housekeeper, accountant, physicist, gardener, dentist, weaver, blacksmith, psychologist, supervisor, mathematician, surveyor, tailor, designer, economist, mechanic, laborer, postmaster, broker, chemist, librarian, attendant, clerical, musician, porter, scientist, carpenter, sailor, instructor, sheriff, pilot, inspector, mason,baker, administrator, architect, collector, operator, surgeon, driver, painter, conductor, nurse, cook, engineer,retired, sales, lawyer, clergy, physician, farmer, clerk, manager, guard, artist, smith, official, police, doctor,professor, student, judge, teacher, author, secretary, soldier\"\n",
    "\n",
    "prof_occu_str = \"statistician, auctioneer, photographer, geologist, accountant, physicist, dentist, psychologist, supervisor, mathematician, designer, economist, postmaster, broker, chemist, librarian, scientist, instructor,pilot, administrator, architect, surgeon, nurse, engineer, lawyer, physician, manager, official, doctor, professor,student, judge, teacher, author\""
   ]
  },
  {
   "cell_type": "code",
   "execution_count": 35,
   "id": "84b75c87",
   "metadata": {},
   "outputs": [],
   "source": [
    "occu_lst = occu_str.replace(\",\", \" \").split()\n",
    "prof_occu_lst = prof_occu_str.replace(\",\", \" \").split()"
   ]
  },
  {
   "cell_type": "code",
   "execution_count": 33,
   "id": "011fa7ba",
   "metadata": {
    "scrolled": true
   },
   "outputs": [
    {
     "data": {
      "text/plain": [
       "'biologist, geneticist, ecologist, physicist, chemist, research scientist, software engineer, data scientist, web developer, electrical engineer, electronics technician, mathematician, statistician, data analyst, economist, financial analyst, economic researcher, historian, archivist, historical researcher, archaeologist, politician, governer, republican, democrat, lawyer, pcychologist, christian, muslim, jew, enthusiast'"
      ]
     },
     "execution_count": 33,
     "metadata": {},
     "output_type": "execute_result"
    }
   ],
   "source": [
    "mmlu_occu_dic = {'natural science':['biologist', 'geneticist', 'ecologist', 'physicist', 'chemist', 'research scientist'],\n",
    "                'eecs':['software engineer', 'data scientist', 'web developer', 'electrical engineer', 'electronics technician'],\n",
    "                'math':['mathematician', 'statistician', 'data analyst'],\n",
    "                'econ':['economist', 'financial analyst', 'economic researcher'],\n",
    "                'history':['historian', 'archivist', 'historical researcher', 'archaeologist'],\n",
    "                'politics':['politician', 'governer', 'republican', 'democrat'],\n",
    "                'law':['lawyer'],\n",
    "                'psychology':['pcychologist'],\n",
    "                'religion':['christian', 'muslim', 'jew', 'enthusiast']}\n",
    "\n",
    "mmlu_rel_str = ', '.join([', '.join(values) for values in mmlu_occu_dic.values()])\n",
    "mmlu_rel_str"
   ]
  },
  {
   "cell_type": "code",
   "execution_count": 34,
   "id": "b44de1b5",
   "metadata": {},
   "outputs": [],
   "source": [
    "# mmlu_rel2type = {}\n",
    "# for key, values in mmlu_occu_dic.items():\n",
    "#     for rel in values:\n",
    "#         mmlu_rel2type[rel] = key"
   ]
  },
  {
   "cell_type": "code",
   "execution_count": null,
   "id": "29dadd63",
   "metadata": {},
   "outputs": [],
   "source": []
  },
  {
   "cell_type": "markdown",
   "id": "ceecbf6c",
   "metadata": {},
   "source": [
    "## Get Google n-gram frequency"
   ]
  },
  {
   "cell_type": "code",
   "execution_count": 46,
   "id": "b1f8a146",
   "metadata": {},
   "outputs": [],
   "source": [
    "def runQuery(query, start_year=2018, \n",
    "             end_year=2019, corpus=26,\n",
    "             smoothing=0):\n",
    "  \n",
    "    # converting a regular string to the standard URL format \n",
    "    # eg: \"geeks for,geeks\" will convert to \"geeks%20for%2Cgeeks\"\n",
    "    query = urllib.parse.quote(query)\n",
    "  \n",
    "    # creating the URL\n",
    "    url = 'https://books.google.com/ngrams/json?content=' + query + '&year_start=' + str(start_year) + '&year_end=' + str(end_year) + '&corpus=' + str(corpus) + '&smoothing=' + str(smoothing) + ''\n",
    "  \n",
    "    # requesting data from the above url\n",
    "    response = requests.get(url)\n",
    "  \n",
    "    # extracting the json data from the response we got\n",
    "    output = response.json()\n",
    "  \n",
    "    # creating a list to store the ngram data\n",
    "    return_data = []\n",
    "  \n",
    "    if len(output) == 0:\n",
    "        # if no data returned from site,\n",
    "        # print the following statement\n",
    "        return \"No data available for this Ngram.\"\n",
    "    else:\n",
    "        # if data returned from site,\n",
    "        # store the data in return_data list\n",
    "        for num in range(len(output)):\n",
    "            \n",
    "              # getting the name\n",
    "            return_data.append((output[num]['ngram'],          \n",
    "                                # getting ngram data\n",
    "                                output[num]['timeseries']) \n",
    "                               )\n",
    "        ngram_freq_dic = {key: mean(values) for key, values in return_data}\n",
    "\n",
    "    \n",
    "    return ngram_freq_dic"
   ]
  },
  {
   "cell_type": "code",
   "execution_count": 38,
   "id": "05e24fa0",
   "metadata": {},
   "outputs": [
    {
     "data": {
      "text/plain": [
       "[('researcher', [1.1649870430119336e-05, 1.2804611287720036e-05])]"
      ]
     },
     "execution_count": 38,
     "metadata": {},
     "output_type": "execute_result"
    }
   ],
   "source": [
    "runQuery('researcher')"
   ]
  },
  {
   "cell_type": "code",
   "execution_count": 47,
   "id": "a74a9e60",
   "metadata": {},
   "outputs": [
    {
     "data": {
      "text/plain": [
       "{'researcher': 1.2227240858919686e-05, 'sister': 7.55954060878139e-05}"
      ]
     },
     "execution_count": 47,
     "metadata": {},
     "output_type": "execute_result"
    }
   ],
   "source": [
    "role_str = \"researcher, sister\"\n",
    "ngram_freq_dic = runQuery(role_str)\n",
    "ngram_freq_dic"
   ]
  },
  {
   "cell_type": "code",
   "execution_count": 48,
   "id": "37a97526",
   "metadata": {},
   "outputs": [],
   "source": [
    "ngram_freq_df = pd.DataFrame(ngram_freq_dic.items(), columns=['role', 'frequency'])"
   ]
  },
  {
   "cell_type": "code",
   "execution_count": 51,
   "id": "1a4effaf",
   "metadata": {},
   "outputs": [
    {
     "data": {
      "text/html": [
       "<div>\n",
       "<style scoped>\n",
       "    .dataframe tbody tr th:only-of-type {\n",
       "        vertical-align: middle;\n",
       "    }\n",
       "\n",
       "    .dataframe tbody tr th {\n",
       "        vertical-align: top;\n",
       "    }\n",
       "\n",
       "    .dataframe thead th {\n",
       "        text-align: right;\n",
       "    }\n",
       "</style>\n",
       "<table border=\"1\" class=\"dataframe\">\n",
       "  <thead>\n",
       "    <tr style=\"text-align: right;\">\n",
       "      <th></th>\n",
       "      <th>role</th>\n",
       "      <th>frequency</th>\n",
       "    </tr>\n",
       "  </thead>\n",
       "  <tbody>\n",
       "    <tr>\n",
       "      <th>0</th>\n",
       "      <td>researcher</td>\n",
       "      <td>0.000012</td>\n",
       "    </tr>\n",
       "    <tr>\n",
       "      <th>1</th>\n",
       "      <td>sister</td>\n",
       "      <td>0.000076</td>\n",
       "    </tr>\n",
       "  </tbody>\n",
       "</table>\n",
       "</div>"
      ],
      "text/plain": [
       "         role  frequency\n",
       "0  researcher   0.000012\n",
       "1      sister   0.000076"
      ]
     },
     "execution_count": 51,
     "metadata": {},
     "output_type": "execute_result"
    }
   ],
   "source": [
    "ngram_freq_df"
   ]
  },
  {
   "cell_type": "code",
   "execution_count": 50,
   "id": "b5f31a61",
   "metadata": {},
   "outputs": [],
   "source": [
    "ngram_freq_df.to_csv(\"../data/example_social_roles.csv\", index=False)"
   ]
  },
  {
   "cell_type": "code",
   "execution_count": null,
   "id": "b1e7964a",
   "metadata": {},
   "outputs": [],
   "source": []
  },
  {
   "cell_type": "markdown",
   "id": "48229eb9",
   "metadata": {},
   "source": [
    "## Optional: Extend the role list using WordNet"
   ]
  },
  {
   "cell_type": "code",
   "execution_count": 53,
   "id": "ce0882cf",
   "metadata": {},
   "outputs": [],
   "source": [
    "def get_hyponyms(words, expected_num_hyponyms):\n",
    "    result = {}\n",
    "    for word in words:\n",
    "        unique_hyponyms = set()\n",
    "        synsets = wn.synsets(word)\n",
    "        for synset in synsets:\n",
    "            # Get hyponyms\n",
    "            for hyponym in synset.hyponyms():\n",
    "                unique_hyponyms.update([lemma.name() for lemma in hyponym.lemmas()])\n",
    "                if len(unique_hyponyms) >= expected_num_hyponyms:\n",
    "                    break\n",
    "            if len(unique_hyponyms) >= expected_num_hyponyms:\n",
    "                break\n",
    "\n",
    "        result[word] = list(unique_hyponyms)[:expected_num_hyponyms]\n",
    "    return result"
   ]
  },
  {
   "cell_type": "code",
   "execution_count": 59,
   "id": "32fcc8a4",
   "metadata": {},
   "outputs": [
    {
     "name": "stderr",
     "output_type": "stream",
     "text": [
      "[nltk_data] Downloading package wordnet to /home/elisazmq/nltk_data...\n",
      "[nltk_data]   Package wordnet is already up-to-date!\n",
      "[nltk_data] Downloading package omw-1.4 to /home/elisazmq/nltk_data...\n"
     ]
    },
    {
     "data": {
      "text/plain": [
       "True"
      ]
     },
     "execution_count": 59,
     "metadata": {},
     "output_type": "execute_result"
    }
   ],
   "source": [
    "nltk.download('wordnet')\n",
    "nltk.download('omw-1.4')"
   ]
  },
  {
   "cell_type": "code",
   "execution_count": 60,
   "id": "416eeb13",
   "metadata": {},
   "outputs": [
    {
     "data": {
      "text/plain": [
       "{'mother': ['mama', 'mum', 'ma', 'mommy', 'momma'],\n",
       " 'father': ['pappa', 'pop', 'papa', 'pa', 'dada']}"
      ]
     },
     "execution_count": 60,
     "metadata": {},
     "output_type": "execute_result"
    }
   ],
   "source": [
    "'''EXAMPLE'''\n",
    "words = ['mother', 'father']\n",
    "num = 5\n",
    "hypo = get_hyponyms(words, num)\n",
    "hypo"
   ]
  },
  {
   "cell_type": "code",
   "execution_count": null,
   "id": "e778e227",
   "metadata": {},
   "outputs": [],
   "source": []
  },
  {
   "cell_type": "code",
   "execution_count": null,
   "id": "644fd2c7",
   "metadata": {},
   "outputs": [],
   "source": []
  }
 ],
 "metadata": {
  "kernelspec": {
   "display_name": "Python 3 (ipykernel)",
   "language": "python",
   "name": "python3"
  },
  "language_info": {
   "codemirror_mode": {
    "name": "ipython",
    "version": 3
   },
   "file_extension": ".py",
   "mimetype": "text/x-python",
   "name": "python",
   "nbconvert_exporter": "python",
   "pygments_lexer": "ipython3",
   "version": "3.10.9"
  }
 },
 "nbformat": 4,
 "nbformat_minor": 5
}
