{
 "cells": [
  {
   "cell_type": "code",
   "execution_count": 7,
   "id": "7fdc4db9",
   "metadata": {},
   "outputs": [],
   "source": [
    "import os\n",
    "import json\n",
    "import csv\n",
    "import pandas as pd\n",
    "import numpy as np\n",
    "import requests \n",
    "import urllib \n"
   ]
  },
  {
   "cell_type": "code",
   "execution_count": 2,
   "id": "3c957629",
   "metadata": {},
   "outputs": [],
   "source": [
    "def runQuery(query, start_year=2018, \n",
    "             end_year=2019, corpus=26,\n",
    "             smoothing=0):\n",
    "  \n",
    "    # converting a regular string to the standard URL format\n",
    "    # eg: \"geeks for,geeks\" will convert to \"geeks%20for%2Cgeeks\"\n",
    "    query = urllib.parse.quote(query)\n",
    "  \n",
    "    # creating the URL\n",
    "    url = 'https://books.google.com/ngrams/json?content=' + query + '&year_start=' + str(start_year) + '&year_end=' + str(end_year) + '&corpus=' + str(corpus) + '&smoothing=' + str(smoothing) + ''\n",
    "  \n",
    "    # requesting data from the above url\n",
    "    response = requests.get(url)\n",
    "  \n",
    "    # extracting the json data from the response we got\n",
    "    output = response.json()\n",
    "  \n",
    "    # creating a list to store the ngram data\n",
    "    return_data = []\n",
    "  \n",
    "    if len(output) == 0:\n",
    "        # if no data returned from site, print the following statement\n",
    "        return \"No data available for this Ngram.\"\n",
    "    else:\n",
    "        # if data returned from site, store the data in return_data list\n",
    "        for num in range(len(output)):\n",
    "              # getting the name\n",
    "            return_data.append((output[num]['ngram'],  \n",
    "                                # getting ngram data\n",
    "                                output[num]['timeseries']) \n",
    "                               ) \n",
    "    return return_data"
   ]
  },
  {
   "cell_type": "code",
   "execution_count": 3,
   "id": "02a9708f",
   "metadata": {},
   "outputs": [],
   "source": [
    "role_path = \"../data/final-final-role-cate.csv\"\n",
    "role_df = pd.read_csv(role_path)"
   ]
  },
  {
   "cell_type": "code",
   "execution_count": 8,
   "id": "db798617",
   "metadata": {},
   "outputs": [],
   "source": [
    "'''Get n-gram frequency'''\n",
    "# combine all role words as a string\n",
    "role_str = ', '.join(role_df['role'].astype(str))\n",
    "\n",
    "ngram_full = runQuery(role_str)\n",
    "ngram_freq_full = {key: np.mean(values) for key, values in ngram_full}\n",
    "\n",
    "ngram_freq_df = pd.DataFrame(ngram_freq_full.items(), columns=['role', 'N-gram Frequency (2018-2019)'])\n",
    "\n",
    "role_df = pd.merge(role_df, ngram_freq_df, how='left')\n",
    "\n",
    "role_df.to_csv(\"../data/role-ngram-all.csv\", index=False)"
   ]
  },
  {
   "cell_type": "code",
   "execution_count": 9,
   "id": "eac38e5b",
   "metadata": {},
   "outputs": [],
   "source": [
    "role_ngram_old = pd.read_csv(\"../data/final-role-ngram.csv\")"
   ]
  },
  {
   "cell_type": "code",
   "execution_count": 12,
   "id": "36adae8a",
   "metadata": {},
   "outputs": [
    {
     "data": {
      "text/plain": [
       "Index(['role', 'role cate', 'occupation cate', 'merged_cate',\n",
       "       'N-gram Frequency (2018-2019)'],\n",
       "      dtype='object')"
      ]
     },
     "execution_count": 12,
     "metadata": {},
     "output_type": "execute_result"
    }
   ],
   "source": [
    "role_ngram_old.columns"
   ]
  },
  {
   "cell_type": "code",
   "execution_count": 13,
   "id": "d5e18657",
   "metadata": {},
   "outputs": [
    {
     "data": {
      "text/plain": [
       "Index(['role', 'role cate', 'occupation cate', 'merged_cate',\n",
       "       'N-gram Frequency (2018-2019)', 'mmlu', 'interpersonal', 'gender',\n",
       "       'align_words', 'gender_role_cate'],\n",
       "      dtype='object')"
      ]
     },
     "execution_count": 13,
     "metadata": {},
     "output_type": "execute_result"
    }
   ],
   "source": [
    "role_df.columns"
   ]
  },
  {
   "cell_type": "code",
   "execution_count": null,
   "id": "f0419f1f",
   "metadata": {},
   "outputs": [],
   "source": []
  }
 ],
 "metadata": {
  "kernelspec": {
   "display_name": "Python 3 (ipykernel)",
   "language": "python",
   "name": "python3"
  },
  "language_info": {
   "codemirror_mode": {
    "name": "ipython",
    "version": 3
   },
   "file_extension": ".py",
   "mimetype": "text/x-python",
   "name": "python",
   "nbconvert_exporter": "python",
   "pygments_lexer": "ipython3",
   "version": "3.10.9"
  }
 },
 "nbformat": 4,
 "nbformat_minor": 5
}
