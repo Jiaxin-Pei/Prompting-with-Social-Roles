{
 "cells": [
  {
   "cell_type": "code",
   "execution_count": 1,
   "id": "06cf8b2c",
   "metadata": {},
   "outputs": [
    {
     "name": "stderr",
     "output_type": "stream",
     "text": [
      "2024-01-24 01:04:18.125411: I tensorflow/core/platform/cpu_feature_guard.cc:193] This TensorFlow binary is optimized with oneAPI Deep Neural Network Library (oneDNN) to use the following CPU instructions in performance-critical operations:  AVX2 AVX512F AVX512_VNNI FMA\n",
      "To enable them in other operations, rebuild TensorFlow with the appropriate compiler flags.\n",
      "/opt/anaconda/lib/python3.10/site-packages/transformers/utils/hub.py:123: FutureWarning: Using `TRANSFORMERS_CACHE` is deprecated and will be removed in v5 of Transformers. Use `HF_HOME` instead.\n",
      "  warnings.warn(\n"
     ]
    }
   ],
   "source": [
    "import os\n",
    "os.environ['TRANSFORMERS_CACHE'] = '/shared/3/cache/huggingface'\n",
    "import json\n",
    "import csv\n",
    "import pandas as pd\n",
    "import random, string, re, collections\n",
    "import numpy as np\n",
    "import torch\n",
    "from argparse import ArgumentParser\n",
    "\n",
    "from simpletransformers.classification import MultiLabelClassificationModel, MultiLabelClassificationArgs\n",
    "from simpletransformers.classification import ClassificationModel, ClassificationArgs\n",
    "import logging"
   ]
  },
  {
   "cell_type": "code",
   "execution_count": 2,
   "id": "c1efd15f",
   "metadata": {},
   "outputs": [],
   "source": [
    "def split_labels(length,ratio=0.7,seed=0):\n",
    "    '''\n",
    "        generate a list of split labels (train, val) with the given split ratio and length\n",
    "        input: \n",
    "            length: the size of the dataset\n",
    "            ratio:training ratio\n",
    "        return:\n",
    "            agree_df: the processed annotation file for a single language \n",
    "    '''\n",
    "    num_train = int(ratio * length)\n",
    "    num_val = int(0.1 * length)\n",
    "    num_test = length - num_train - num_val\n",
    "# 7:1:2\n",
    "    split_labels = ['train']*num_train + ['val']*num_val + ['test']*num_test\n",
    "    random.seed(seed)\n",
    "    random.shuffle(split_labels)\n",
    "    return split_labels"
   ]
  },
  {
   "cell_type": "code",
   "execution_count": null,
   "id": "227c4529",
   "metadata": {},
   "outputs": [],
   "source": []
  },
  {
   "cell_type": "markdown",
   "id": "f08490f5",
   "metadata": {},
   "source": [
    "# Multilabel classification"
   ]
  },
  {
   "cell_type": "code",
   "execution_count": null,
   "id": "164c3568",
   "metadata": {},
   "outputs": [],
   "source": [
    "def majority_accuracy(series):\n",
    "    # If the majority of values are 1, return 1, otherwise return 0.\n",
    "    return 1 if series.sum() > len(series) / 2 else 0"
   ]
  },
  {
   "cell_type": "code",
   "execution_count": null,
   "id": "64084d49",
   "metadata": {},
   "outputs": [],
   "source": [
    "exp_result_path = \"path/to/exp_result.csv\"\n",
    "exp_result_df = pd.read_csv(exp_result_path)"
   ]
  },
  {
   "cell_type": "code",
   "execution_count": null,
   "id": "716f492f",
   "metadata": {},
   "outputs": [],
   "source": [
    "# save the idx of each role to keep track of the label-role pairs in multilabel classification \n",
    "role_idx = exp_result_df.groupby(['role']).count().index\n",
    "\n",
    "role_idx_df = pd.DataFrame({\n",
    "    'index': range(len(role_idx)),\n",
    "    'role': llama_role_idx\n",
    "}).reset_index(drop=True)\n",
    "\n",
    "role_idx_df.to_csv(\"path/to/role_index.csv\", index=False)"
   ]
  },
  {
   "cell_type": "code",
   "execution_count": null,
   "id": "96381a3b",
   "metadata": {},
   "outputs": [],
   "source": [
    "result_grouped = exp_result_df.groupby(['role', 'question', 'dataset', 'full_question'])\n",
    "\n",
    "role_accuracy_majority = result_grouped['accuracy'].agg(majority_accuracy).reset_index(name='majority_accuracy')\n",
    "role_accuracy_majority.rename(columns={'majority_accuracy': 'accuracy'}, inplace=True)"
   ]
  },
  {
   "cell_type": "code",
   "execution_count": null,
   "id": "ab6762bf",
   "metadata": {},
   "outputs": [],
   "source": []
  },
  {
   "cell_type": "code",
   "execution_count": null,
   "id": "a5506883",
   "metadata": {},
   "outputs": [],
   "source": []
  },
  {
   "cell_type": "code",
   "execution_count": null,
   "id": "2356921d",
   "metadata": {},
   "outputs": [],
   "source": []
  },
  {
   "cell_type": "code",
   "execution_count": null,
   "id": "dd6d14ec",
   "metadata": {},
   "outputs": [],
   "source": []
  },
  {
   "cell_type": "code",
   "execution_count": null,
   "id": "12e4111e",
   "metadata": {},
   "outputs": [],
   "source": []
  }
 ],
 "metadata": {
  "kernelspec": {
   "display_name": "Python 3 (ipykernel)",
   "language": "python",
   "name": "python3"
  },
  "language_info": {
   "codemirror_mode": {
    "name": "ipython",
    "version": 3
   },
   "file_extension": ".py",
   "mimetype": "text/x-python",
   "name": "python",
   "nbconvert_exporter": "python",
   "pygments_lexer": "ipython3",
   "version": "3.10.9"
  }
 },
 "nbformat": 4,
 "nbformat_minor": 5
}
